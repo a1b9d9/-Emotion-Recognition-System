{
 "cells": [
  {
   "cell_type": "code",
   "execution_count": 1,
   "metadata": {},
   "outputs": [],
   "source": [
    "import librosa\n",
    "import soundfile\n",
    "import os, glob, pickle\n",
    "import numpy as np\n",
    "from sklearn.model_selection import train_test_split\n",
    "from sklearn.neural_network import MLPClassifier\n",
    "from sklearn.metrics import accuracy_score\n",
    "from librosa.core import istft\n",
    "from sklearn.svm import SVC\n",
    "from sklearn.tree import DecisionTreeClassifier\n",
    "from sklearn.preprocessing import LabelEncoder\n",
    "from sklearn.preprocessing import OneHotEncoder\n",
    "from tensorflow import keras\n",
    "from keras.layers import Conv2D, MaxPool2D, Flatten, Dense, Dropout\n",
    "from keras.models import Sequential"
   ]
  },
  {
   "cell_type": "code",
   "execution_count": null,
   "metadata": {},
   "outputs": [],
   "source": []
  },
  {
   "cell_type": "code",
   "execution_count": 28,
   "metadata": {},
   "outputs": [
    {
     "name": "stdout",
     "output_type": "stream",
     "text": [
      "Enter the audio file path\n",
      "<pydub.audio_segment.AudioSegment object at 0x000001E4602632B0>\n",
      "saving chunk0.wav\n",
      "Processing chunk 0\n",
      "Could not understand audio\n"
     ]
    }
   ],
   "source": [
    "import speech_recognition as sr \n",
    "  \n",
    "import os \n",
    "  \n",
    "from pydub import AudioSegment \n",
    "from pydub.silence import split_on_silence \n",
    "  \n",
    "# a function that splits the audio file into chunks \n",
    "# and applies speech recognition \n",
    "def silence_based_conversion(path = \"alice-medium.wav\"): \n",
    "  \n",
    "    # open the audio file stored in \n",
    "    # the local system as a wav file. \n",
    "    song = AudioSegment.from_wav(path) \n",
    "  \n",
    "    # open a file where we will concatenate   \n",
    "    # and store the recognized text \n",
    "    fh = open(\"recognized.txt\", \"w+\") \n",
    "          \n",
    "    # split track where silence is 0.5 seconds  \n",
    "    # or more and get chunks \n",
    "    chunks = split_on_silence(song, \n",
    "        # must be silent for at least 0.5 seconds \n",
    "        # or 500 ms. adjust this value based on user \n",
    "        # requirement. if the speaker stays silent for  \n",
    "        # longer, increase this value. else, decrease it. \n",
    "                              \n",
    "        # consider it silent if quieter than -16 dBFS \n",
    "        # adjust this per requirement \n",
    "        silence_thresh = -35,keep_silence=1000\n",
    "    ) \n",
    "  \n",
    "    # create a directory to store the audio chunks. \n",
    "    try: \n",
    "        os.mkdir('audio_chunks') \n",
    "    except(FileExistsError): \n",
    "        pass\n",
    "  \n",
    "    # move into the directory to \n",
    "    # store the audio files. \n",
    "    os.chdir('audio_chunks') \n",
    "  \n",
    "    i = 0\n",
    "    # process each chunk \n",
    "    for chunk in chunks: \n",
    "        \n",
    "        # Create 0.5 seconds silence chunk \n",
    "        chunk_silent = AudioSegment.silent(duration = 1000) \n",
    "  \n",
    "        # add 0.5 sec silence to beginning and  \n",
    "        # end of audio chunk. This is done so that \n",
    "        # it doesn't seem abruptly sliced.\n",
    "        print(chunk)\n",
    "        audio_chunk =  chunk \n",
    "  \n",
    "        # export audio chunk and save it in  \n",
    "        # the current directory. \n",
    "        print(\"saving chunk{0}.wav\".format(i)) \n",
    "        # specify the bitrate to be 192 k \n",
    "        audio_chunk.export(\"./chunk{0}.wav\".format(i), bitrate ='192k', format =\"wav\") \n",
    "  \n",
    "        # the name of the newly created chunk \n",
    "        filename = 'chunk'+str(i)+'.wav'\n",
    "  \n",
    "        print(\"Processing chunk \"+str(i)) \n",
    "  \n",
    "        # get the name of the newly created chunk \n",
    "        # in the AUDIO_FILE variable for later use. \n",
    "        file = filename \n",
    "  \n",
    "        # create a speech recognition object \n",
    "        r = sr.Recognizer() \n",
    "  \n",
    "        # recognize the chunk \n",
    "        with sr.AudioFile(file) as source: \n",
    "            # remove this if it is not working \n",
    "            # correctly. \n",
    "            r.adjust_for_ambient_noise(source) \n",
    "            audio_listened = r.listen(source) \n",
    "  \n",
    "        try: \n",
    "            # try converting it to text \n",
    "            rec = r.recognize_google(audio_listened) \n",
    "            # write the output to the file. \n",
    "            fh.write(rec+\". \") \n",
    "  \n",
    "        # catch any errors. \n",
    "        except sr.UnknownValueError: \n",
    "            print(\"Could not understand audio\") \n",
    "  \n",
    "        except sr.RequestError as e: \n",
    "            print(\"Could not request results. check your internet connection\") \n",
    "  \n",
    "        i += 1\n",
    "  \n",
    "    os.chdir('..') \n",
    "  \n",
    "  \n",
    "if __name__ == '__main__': \n",
    "          \n",
    "    print('Enter the audio file path') \n",
    "  \n",
    "    path = \"C:\\\\Users\\\\DELL\\\\Desktop\\\\test1.wav\"\n",
    "  \n",
    "    silence_based_conversion(path) "
   ]
  },
  {
   "cell_type": "code",
   "execution_count": 27,
   "metadata": {},
   "outputs": [
    {
     "data": {
      "text/plain": [
       "<_io.BufferedRandom name='C:\\\\Users\\\\DELL\\\\Desktop\\\\test1.wav'>"
      ]
     },
     "execution_count": 27,
     "metadata": {},
     "output_type": "execute_result"
    }
   ],
   "source": [
    "from pydub import AudioSegment\n",
    "\n",
    "wav_audio = AudioSegment.from_file(\"C:\\\\Users\\\\DELL\\\\Desktop\\\\.MP3\", format=\"MP3\")\n",
    "#raw_audio = AudioSegment.from_file(\"audio.wav\", format=\"raw\",\n",
    "#                                  frame_rate=44100, channels=2, sample_width=2)\n",
    "\n",
    "wav_audio.export(\"C:\\\\Users\\\\DELL\\\\Desktop\\\\test1.wav\", format=\"wav\")\n",
    "#raw_audio.export(\"audio2.mp3\", format=\"mp3\")"
   ]
  },
  {
   "cell_type": "code",
   "execution_count": null,
   "metadata": {},
   "outputs": [],
   "source": [
    "C:\\Users\\DELL\\Desktop\\final junior\\audio_chunks"
   ]
  },
  {
   "cell_type": "code",
   "execution_count": 25,
   "metadata": {},
   "outputs": [],
   "source": [
    "#DataFlair - Load the data and extract features for each sound file\n",
    "def load_data1(test_size=0.2):\n",
    "    x,y=[],[]\n",
    "    file_name=os.path.basename(\"C:\\\\Users\\\\DELL\\\\Desktop\\\\test1.Wav\")\n",
    "    feature=extract_feature(file_name,mfcc=True, chroma=True, mel=True)\n",
    "    return np.array(feature)"
   ]
  },
  {
   "cell_type": "code",
   "execution_count": null,
   "metadata": {},
   "outputs": [],
   "source": []
  },
  {
   "cell_type": "code",
   "execution_count": 2,
   "metadata": {},
   "outputs": [],
   "source": [
    "#DataFlair - Extract features (mfcc, chroma, mel) from a sound file\n",
    "def extract_feature(file_name, mfcc, chroma, mel):\n",
    "    with soundfile.SoundFile(file_name) as sound_file:\n",
    "        X = sound_file.read(dtype=\"float32\")\n",
    "        sample_rate=sound_file.samplerate\n",
    "        if chroma:\n",
    "            stft=np.abs(librosa.core.stft(X))\n",
    "        result=np.array([])\n",
    "        if mfcc:\n",
    "            mfccs=np.mean(librosa.feature.mfcc(y=X, sr=sample_rate, n_mfcc=40).T, axis=0)\n",
    "            result=np.hstack((result, mfccs))\n",
    "        if chroma:\n",
    "            chroma=np.mean(librosa.feature.chroma_stft(S=stft, sr=sample_rate).T,axis=0)\n",
    "            result=np.hstack((result, chroma))\n",
    "        if mel:\n",
    "            mel=np.mean(librosa.feature.melspectrogram(X, sr=sample_rate).T,axis=0)\n",
    "            result=np.hstack((result, mel))\n",
    "    return result"
   ]
  },
  {
   "cell_type": "code",
   "execution_count": 3,
   "metadata": {},
   "outputs": [],
   "source": [
    "#DataFlair - Emotions in the RAVDESS dataset\n",
    "emotions={\n",
    "  '01':'neutral',\n",
    "  '02':'calm',\n",
    "  '03':'happy',\n",
    "  '04':'sad',\n",
    "  '05':'angry',\n",
    "  '06':'fearful',\n",
    "  '07':'disgust',\n",
    "  '08':'surprised'}\n",
    "observed_emotions=['neutral', 'happy', 'fearful', 'sad','angry']"
   ]
  },
  {
   "cell_type": "code",
   "execution_count": 4,
   "metadata": {},
   "outputs": [],
   "source": [
    "#DataFlair - Load the data and extract features for each sound file\n",
    "def load_data(test_size=0.2):\n",
    "    x,y=[],[]\n",
    "    for file in glob.glob(\"C:\\\\Users\\\\DELL\\\\Desktop\\\\jonuior project\\\\vo\\\\*\\\\*.wav\"):\n",
    "        file_name=os.path.basename(file)\n",
    "        emotion=emotions[file_name.split(\"-\")[2]]\n",
    "        feature=extract_feature(file, mfcc=True, chroma=True, mel=True)\n",
    "        if emotion not in observed_emotions:\n",
    "            continue\n",
    "        x.append(feature)\n",
    "        y.append(emotion)\n",
    "    return train_test_split(np.array(x), y, test_size=test_size, random_state=9)"
   ]
  },
  {
   "cell_type": "code",
   "execution_count": 5,
   "metadata": {
    "scrolled": true
   },
   "outputs": [],
   "source": [
    "#DataFlair - Split the dataset\n",
    "x_train,x_test,y_train,y_test=load_data(test_size=0.1)\n"
   ]
  },
  {
   "cell_type": "code",
   "execution_count": null,
   "metadata": {},
   "outputs": [],
   "source": []
  },
  {
   "cell_type": "code",
   "execution_count": 6,
   "metadata": {},
   "outputs": [],
   "source": [
    "model=MLPClassifier(alpha=0.01, batch_size=256, epsilon=1e-08, hidden_layer_sizes=(600,), learning_rate='adaptive', max_iter=10000)"
   ]
  },
  {
   "cell_type": "code",
   "execution_count": 7,
   "metadata": {},
   "outputs": [
    {
     "data": {
      "text/plain": [
       "MLPClassifier(alpha=0.01, batch_size=256, hidden_layer_sizes=(600,),\n",
       "              learning_rate='adaptive', max_iter=10000)"
      ]
     },
     "execution_count": 7,
     "metadata": {},
     "output_type": "execute_result"
    }
   ],
   "source": [
    "model.fit(x_train,y_train)"
   ]
  },
  {
   "cell_type": "code",
   "execution_count": null,
   "metadata": {},
   "outputs": [],
   "source": [
    "y_pred=model.predict(load_data1())"
   ]
  },
  {
   "cell_type": "code",
   "execution_count": 47,
   "metadata": {},
   "outputs": [
    {
     "name": "stdout",
     "output_type": "stream",
     "text": [
      "Accuracy: 86.75%\n"
     ]
    }
   ],
   "source": [
    "#DataFlair - Calculate the accuracy of our model\n",
    "accuracy=accuracy_score(y_true=y_test, y_pred=y_pred)\n",
    "\n",
    "#DataFlair - Print the accuracy\n",
    "print(\"Accuracy: {:.2f}%\".format(accuracy*100))"
   ]
  },
  {
   "cell_type": "code",
   "execution_count": null,
   "metadata": {},
   "outputs": [],
   "source": []
  },
  {
   "cell_type": "code",
   "execution_count": 48,
   "metadata": {},
   "outputs": [
    {
     "data": {
      "text/plain": [
       "DecisionTreeClassifier()"
      ]
     },
     "execution_count": 48,
     "metadata": {},
     "output_type": "execute_result"
    }
   ],
   "source": [
    "clf = DecisionTreeClassifier()\n",
    "clf.fit(x_train,y_train)"
   ]
  },
  {
   "cell_type": "code",
   "execution_count": 49,
   "metadata": {},
   "outputs": [],
   "source": [
    "y_predict = clf.predict(x_test)\n"
   ]
  },
  {
   "cell_type": "code",
   "execution_count": 50,
   "metadata": {},
   "outputs": [
    {
     "name": "stdout",
     "output_type": "stream",
     "text": [
      "Accuracy: 71.08%\n"
     ]
    }
   ],
   "source": [
    "#DataFlair - Calculate the accuracy of our model\n",
    "accuracy=accuracy_score(y_true=y_test, y_pred=y_predict)\n",
    "\n",
    "#DataFlair - Print the accuracy\n",
    "print(\"Accuracy: {:.2f}%\".format(accuracy*100))"
   ]
  },
  {
   "cell_type": "code",
   "execution_count": 51,
   "metadata": {},
   "outputs": [],
   "source": [
    "svs_m=SVC(max_iter=1000)"
   ]
  },
  {
   "cell_type": "code",
   "execution_count": 52,
   "metadata": {},
   "outputs": [
    {
     "data": {
      "text/plain": [
       "SVC(max_iter=1000)"
      ]
     },
     "execution_count": 52,
     "metadata": {},
     "output_type": "execute_result"
    }
   ],
   "source": [
    "svs_m.fit(x_train,y_train)"
   ]
  },
  {
   "cell_type": "code",
   "execution_count": 53,
   "metadata": {},
   "outputs": [],
   "source": [
    "yy=svs_m.predict(x_test)"
   ]
  },
  {
   "cell_type": "code",
   "execution_count": 54,
   "metadata": {},
   "outputs": [
    {
     "name": "stdout",
     "output_type": "stream",
     "text": [
      "Accuracy: 53.01%\n"
     ]
    }
   ],
   "source": [
    "#DataFlair - Calculate the accuracy of our model\n",
    "accuracy=accuracy_score(y_true=y_test, y_pred=yy)\n",
    "\n",
    "#DataFlair - Print the accuracy\n",
    "print(\"Accuracy: {:.2f}%\".format(accuracy*100))"
   ]
  },
  {
   "cell_type": "code",
   "execution_count": null,
   "metadata": {},
   "outputs": [],
   "source": []
  },
  {
   "cell_type": "code",
   "execution_count": 55,
   "metadata": {},
   "outputs": [],
   "source": [
    "a_train=list()\n",
    "for i in range(x_train.shape[0]):\n",
    "    arr_2d = np.reshape(x_train[i],(6,30))\n",
    "    a_train.append(arr_2d)\n",
    "    \n",
    "a_train= np.array(a_train)"
   ]
  },
  {
   "cell_type": "code",
   "execution_count": 56,
   "metadata": {},
   "outputs": [],
   "source": [
    "a_test=list()\n",
    "\n",
    "for i in range(x_test.shape[0]):\n",
    "    arr_2d = np.reshape(x_test[i],(6,30))\n",
    "    a_test.append(arr_2d)\n",
    "a_test= np.array(a_test)"
   ]
  },
  {
   "cell_type": "code",
   "execution_count": 63,
   "metadata": {},
   "outputs": [
    {
     "name": "stdout",
     "output_type": "stream",
     "text": [
      "(744, 6, 30, 1)\n",
      "(83, 6, 30, 1)\n"
     ]
    }
   ],
   "source": [
    "input_shape = (a_train.shape[1],a_train.shape[2],1)\n",
    "a_train = a_train.reshape(a_train.shape[0], a_train.shape[1], a_train.shape[2], 1)\n",
    "print(a_train.shape)\n",
    "a_test = a_test.reshape(a_test.shape[0], a_test.shape[1], a_test.shape[2], 1)\n",
    "print(a_test.shape)"
   ]
  },
  {
   "cell_type": "code",
   "execution_count": null,
   "metadata": {},
   "outputs": [],
   "source": [
    "from sklearn.preprocessing import LabelEncoder\n",
    "from sklearn.preprocessing import OneHotEncoder\n",
    "\n",
    "label_encoder = LabelEncoder()\n",
    "label_encoded = label_encoder.fit_transform(y_train)\n",
    "\n",
    "label_encoded = label_encoded[:, np.newaxis]\n",
    "print(label_encoded)\n",
    "\n",
    "one_hot_encoder = OneHotEncoder(sparse=False)\n",
    "ay_train = one_hot_encoder.fit_transform(label_encoded)\n",
    "ay_train"
   ]
  },
  {
   "cell_type": "code",
   "execution_count": null,
   "metadata": {},
   "outputs": [],
   "source": [
    "label_encoder = LabelEncoder()\n",
    "label_encoded = label_encoder.fit_transform(y_test)\n",
    "\n",
    "label_encoded = label_encoded[:, np.newaxis]\n",
    "print(label_encoded)\n",
    "\n",
    "one_hot_encoder = OneHotEncoder(sparse=False)\n",
    "ay_test = one_hot_encoder.fit_transform(label_encoded)\n",
    "ay_test"
   ]
  },
  {
   "cell_type": "code",
   "execution_count": 81,
   "metadata": {},
   "outputs": [],
   "source": [
    "model = Sequential()\n",
    "model.add(Conv2D(16, (3, 3), activation='relu', strides=(1, 1), \n",
    "    padding='same', input_shape=input_shape))\n",
    "model.add(Conv2D(32, (3, 3), activation='relu', strides=(1, 1), \n",
    "    padding='same'))\n",
    "model.add(MaxPool2D((2, 2)))\n",
    "model.add(Dropout(0.5))\n",
    "model.add(Flatten())\n",
    "model.add(Dense(128, activation='relu'))\n",
    "model.add(Dropout(0.5))\n",
    "model.add(Dense(64, activation='relu'))\n",
    "model.add(Dropout(0.5))\n",
    "model.add(Dense(5, activation='softmax'))\n",
    "model.compile(loss='categorical_crossentropy', \n",
    "     optimizer='adam',\n",
    "     metrics=['acc'])"
   ]
  },
  {
   "cell_type": "code",
   "execution_count": 82,
   "metadata": {},
   "outputs": [
    {
     "name": "stdout",
     "output_type": "stream",
     "text": [
      "Model: \"sequential_6\"\n",
      "_________________________________________________________________\n",
      "Layer (type)                 Output Shape              Param #   \n",
      "=================================================================\n",
      "conv2d_12 (Conv2D)           (None, 6, 30, 16)         160       \n",
      "_________________________________________________________________\n",
      "conv2d_13 (Conv2D)           (None, 6, 30, 32)         4640      \n",
      "_________________________________________________________________\n",
      "max_pooling2d_6 (MaxPooling2 (None, 3, 15, 32)         0         \n",
      "_________________________________________________________________\n",
      "dropout_12 (Dropout)         (None, 3, 15, 32)         0         \n",
      "_________________________________________________________________\n",
      "flatten_6 (Flatten)          (None, 1440)              0         \n",
      "_________________________________________________________________\n",
      "dense_12 (Dense)             (None, 128)               184448    \n",
      "_________________________________________________________________\n",
      "dropout_13 (Dropout)         (None, 128)               0         \n",
      "_________________________________________________________________\n",
      "dense_13 (Dense)             (None, 64)                8256      \n",
      "_________________________________________________________________\n",
      "dropout_14 (Dropout)         (None, 64)                0         \n",
      "_________________________________________________________________\n",
      "dense_14 (Dense)             (None, 5)                 325       \n",
      "=================================================================\n",
      "Total params: 197,829\n",
      "Trainable params: 197,829\n",
      "Non-trainable params: 0\n",
      "_________________________________________________________________\n",
      "None\n"
     ]
    }
   ],
   "source": [
    "model.compile(loss=keras.losses.categorical_crossentropy, optimizer='adam', metrics=['accuracy'])\n",
    "print(model.summary())"
   ]
  },
  {
   "cell_type": "code",
   "execution_count": 90,
   "metadata": {},
   "outputs": [
    {
     "name": "stdout",
     "output_type": "stream",
     "text": [
      "Epoch 1/100\n",
      "24/24 [==============================] - 0s 14ms/step - loss: 0.0688 - accuracy: 0.9745 - val_loss: 0.3440 - val_accuracy: 0.9277\n",
      "Epoch 2/100\n",
      "24/24 [==============================] - 0s 11ms/step - loss: 0.0604 - accuracy: 0.9825 - val_loss: 0.3281 - val_accuracy: 0.9277\n",
      "Epoch 3/100\n",
      "24/24 [==============================] - 0s 11ms/step - loss: 0.0981 - accuracy: 0.9731 - val_loss: 0.3019 - val_accuracy: 0.9398\n",
      "Epoch 4/100\n",
      "24/24 [==============================] - 0s 11ms/step - loss: 0.0561 - accuracy: 0.9839 - val_loss: 0.2587 - val_accuracy: 0.9398\n",
      "Epoch 5/100\n",
      "24/24 [==============================] - 0s 11ms/step - loss: 0.0795 - accuracy: 0.9677 - val_loss: 0.3104 - val_accuracy: 0.9277\n",
      "Epoch 6/100\n",
      "24/24 [==============================] - 0s 11ms/step - loss: 0.0515 - accuracy: 0.9866 - val_loss: 0.2526 - val_accuracy: 0.9398\n",
      "Epoch 7/100\n",
      "24/24 [==============================] - 0s 12ms/step - loss: 0.0709 - accuracy: 0.9879 - val_loss: 0.3233 - val_accuracy: 0.9157\n",
      "Epoch 8/100\n",
      "24/24 [==============================] - 0s 12ms/step - loss: 0.0346 - accuracy: 0.9933 - val_loss: 0.3533 - val_accuracy: 0.9157\n",
      "Epoch 9/100\n",
      "24/24 [==============================] - 0s 12ms/step - loss: 0.0546 - accuracy: 0.9852 - val_loss: 0.2723 - val_accuracy: 0.9518\n",
      "Epoch 10/100\n",
      "24/24 [==============================] - 0s 11ms/step - loss: 0.0435 - accuracy: 0.9852 - val_loss: 0.2596 - val_accuracy: 0.9518\n",
      "Epoch 11/100\n",
      "24/24 [==============================] - 0s 11ms/step - loss: 0.0502 - accuracy: 0.9852 - val_loss: 0.2294 - val_accuracy: 0.9759\n",
      "Epoch 12/100\n",
      "24/24 [==============================] - 0s 13ms/step - loss: 0.0271 - accuracy: 0.9933 - val_loss: 0.2885 - val_accuracy: 0.9398\n",
      "Epoch 13/100\n",
      "24/24 [==============================] - 0s 12ms/step - loss: 0.0430 - accuracy: 0.9839 - val_loss: 0.3201 - val_accuracy: 0.9277\n",
      "Epoch 14/100\n",
      "24/24 [==============================] - 0s 12ms/step - loss: 0.0277 - accuracy: 0.9892 - val_loss: 0.2691 - val_accuracy: 0.9518\n",
      "Epoch 15/100\n",
      "24/24 [==============================] - 0s 11ms/step - loss: 0.0588 - accuracy: 0.9839 - val_loss: 0.2557 - val_accuracy: 0.9518\n",
      "Epoch 16/100\n",
      "24/24 [==============================] - 0s 11ms/step - loss: 0.0286 - accuracy: 0.9906 - val_loss: 0.3239 - val_accuracy: 0.9036\n",
      "Epoch 17/100\n",
      "24/24 [==============================] - 0s 11ms/step - loss: 0.0607 - accuracy: 0.9812 - val_loss: 0.3027 - val_accuracy: 0.9157\n",
      "Epoch 18/100\n",
      "24/24 [==============================] - 0s 11ms/step - loss: 0.0675 - accuracy: 0.9772 - val_loss: 0.2659 - val_accuracy: 0.9277\n",
      "Epoch 19/100\n",
      "24/24 [==============================] - 0s 11ms/step - loss: 0.0477 - accuracy: 0.9919 - val_loss: 0.3042 - val_accuracy: 0.9277\n",
      "Epoch 20/100\n",
      "24/24 [==============================] - 0s 11ms/step - loss: 0.0443 - accuracy: 0.9798 - val_loss: 0.2560 - val_accuracy: 0.9277\n",
      "Epoch 21/100\n",
      "24/24 [==============================] - 0s 11ms/step - loss: 0.0504 - accuracy: 0.9839 - val_loss: 0.2758 - val_accuracy: 0.9157\n",
      "Epoch 22/100\n",
      "24/24 [==============================] - 0s 11ms/step - loss: 0.0559 - accuracy: 0.9785 - val_loss: 0.2526 - val_accuracy: 0.9277\n",
      "Epoch 23/100\n",
      "24/24 [==============================] - 0s 11ms/step - loss: 0.0435 - accuracy: 0.9852 - val_loss: 0.1844 - val_accuracy: 0.9277\n",
      "Epoch 24/100\n",
      "24/24 [==============================] - 0s 11ms/step - loss: 0.0778 - accuracy: 0.9798 - val_loss: 0.2336 - val_accuracy: 0.9277\n",
      "Epoch 25/100\n",
      "24/24 [==============================] - 0s 11ms/step - loss: 0.0382 - accuracy: 0.9892 - val_loss: 0.2741 - val_accuracy: 0.9277\n",
      "Epoch 26/100\n",
      "24/24 [==============================] - 0s 12ms/step - loss: 0.0561 - accuracy: 0.9866 - val_loss: 0.2292 - val_accuracy: 0.9277\n",
      "Epoch 27/100\n",
      "24/24 [==============================] - ETA: 0s - loss: 0.0888 - accuracy: 0.98 - 0s 11ms/step - loss: 0.0778 - accuracy: 0.9866 - val_loss: 0.2584 - val_accuracy: 0.9398\n",
      "Epoch 28/100\n",
      "24/24 [==============================] - 0s 11ms/step - loss: 0.0626 - accuracy: 0.9825 - val_loss: 0.2785 - val_accuracy: 0.9398\n",
      "Epoch 29/100\n",
      "24/24 [==============================] - 0s 12ms/step - loss: 0.0621 - accuracy: 0.9785 - val_loss: 0.2946 - val_accuracy: 0.9518\n",
      "Epoch 30/100\n",
      "24/24 [==============================] - 0s 11ms/step - loss: 0.0584 - accuracy: 0.9825 - val_loss: 0.3378 - val_accuracy: 0.9157\n",
      "Epoch 31/100\n",
      "24/24 [==============================] - 0s 12ms/step - loss: 0.0440 - accuracy: 0.9892 - val_loss: 0.3421 - val_accuracy: 0.9157\n",
      "Epoch 32/100\n",
      "24/24 [==============================] - 0s 12ms/step - loss: 0.0554 - accuracy: 0.9866 - val_loss: 0.2838 - val_accuracy: 0.9277\n",
      "Epoch 33/100\n",
      "24/24 [==============================] - 0s 12ms/step - loss: 0.0313 - accuracy: 0.9919 - val_loss: 0.2625 - val_accuracy: 0.9277\n",
      "Epoch 34/100\n",
      "24/24 [==============================] - 0s 12ms/step - loss: 0.0648 - accuracy: 0.9839 - val_loss: 0.2686 - val_accuracy: 0.9277\n",
      "Epoch 35/100\n",
      "24/24 [==============================] - 0s 12ms/step - loss: 0.0333 - accuracy: 0.9892 - val_loss: 0.3051 - val_accuracy: 0.9398\n",
      "Epoch 36/100\n",
      "24/24 [==============================] - 0s 11ms/step - loss: 0.0366 - accuracy: 0.9933 - val_loss: 0.2551 - val_accuracy: 0.9518\n",
      "Epoch 37/100\n",
      "24/24 [==============================] - 0s 12ms/step - loss: 0.0755 - accuracy: 0.9758 - val_loss: 0.3218 - val_accuracy: 0.9398\n",
      "Epoch 38/100\n",
      "24/24 [==============================] - 0s 13ms/step - loss: 0.0223 - accuracy: 0.9906 - val_loss: 0.2212 - val_accuracy: 0.9398\n",
      "Epoch 39/100\n",
      "24/24 [==============================] - 0s 12ms/step - loss: 0.0542 - accuracy: 0.9825 - val_loss: 0.3194 - val_accuracy: 0.9277\n",
      "Epoch 40/100\n",
      "24/24 [==============================] - 0s 12ms/step - loss: 0.0587 - accuracy: 0.9852 - val_loss: 0.2312 - val_accuracy: 0.9518\n",
      "Epoch 41/100\n",
      "24/24 [==============================] - 0s 11ms/step - loss: 0.0499 - accuracy: 0.9866 - val_loss: 0.2059 - val_accuracy: 0.9518\n",
      "Epoch 42/100\n",
      "24/24 [==============================] - 0s 11ms/step - loss: 0.0314 - accuracy: 0.9879 - val_loss: 0.2241 - val_accuracy: 0.9398\n",
      "Epoch 43/100\n",
      "24/24 [==============================] - 0s 11ms/step - loss: 0.0413 - accuracy: 0.9892 - val_loss: 0.3435 - val_accuracy: 0.9277\n",
      "Epoch 44/100\n",
      "24/24 [==============================] - 0s 12ms/step - loss: 0.0330 - accuracy: 0.9946 - val_loss: 0.3299 - val_accuracy: 0.9398\n",
      "Epoch 45/100\n",
      "24/24 [==============================] - 0s 11ms/step - loss: 0.0474 - accuracy: 0.9866 - val_loss: 0.3561 - val_accuracy: 0.9157\n",
      "Epoch 46/100\n",
      "24/24 [==============================] - 0s 11ms/step - loss: 0.0871 - accuracy: 0.9798 - val_loss: 0.2898 - val_accuracy: 0.9277\n",
      "Epoch 47/100\n",
      "24/24 [==============================] - 0s 12ms/step - loss: 0.0395 - accuracy: 0.9879 - val_loss: 0.2382 - val_accuracy: 0.9518\n",
      "Epoch 48/100\n",
      "24/24 [==============================] - 0s 11ms/step - loss: 0.0354 - accuracy: 0.9866 - val_loss: 0.2172 - val_accuracy: 0.9277\n",
      "Epoch 49/100\n",
      "24/24 [==============================] - 0s 11ms/step - loss: 0.0371 - accuracy: 0.9892 - val_loss: 0.2855 - val_accuracy: 0.9277\n",
      "Epoch 50/100\n",
      "24/24 [==============================] - 0s 11ms/step - loss: 0.0403 - accuracy: 0.9879 - val_loss: 0.2571 - val_accuracy: 0.9398\n",
      "Epoch 51/100\n",
      "24/24 [==============================] - 0s 11ms/step - loss: 0.0345 - accuracy: 0.9892 - val_loss: 0.1795 - val_accuracy: 0.9639\n",
      "Epoch 52/100\n",
      "24/24 [==============================] - 0s 11ms/step - loss: 0.0461 - accuracy: 0.9812 - val_loss: 0.2565 - val_accuracy: 0.9277\n",
      "Epoch 53/100\n",
      "24/24 [==============================] - 0s 11ms/step - loss: 0.0540 - accuracy: 0.9825 - val_loss: 0.3021 - val_accuracy: 0.9277\n",
      "Epoch 54/100\n",
      "24/24 [==============================] - 0s 11ms/step - loss: 0.0625 - accuracy: 0.9812 - val_loss: 0.3315 - val_accuracy: 0.9277\n",
      "Epoch 55/100\n",
      "24/24 [==============================] - 0s 11ms/step - loss: 0.0362 - accuracy: 0.9839 - val_loss: 0.2838 - val_accuracy: 0.9277\n",
      "Epoch 56/100\n",
      "24/24 [==============================] - 0s 11ms/step - loss: 0.0310 - accuracy: 0.9852 - val_loss: 0.2418 - val_accuracy: 0.9398\n",
      "Epoch 57/100\n",
      "24/24 [==============================] - 0s 11ms/step - loss: 0.0442 - accuracy: 0.9879 - val_loss: 0.3042 - val_accuracy: 0.9398\n",
      "Epoch 58/100\n"
     ]
    },
    {
     "name": "stdout",
     "output_type": "stream",
     "text": [
      "24/24 [==============================] - 0s 10ms/step - loss: 0.0412 - accuracy: 0.9879 - val_loss: 0.2890 - val_accuracy: 0.9398\n",
      "Epoch 59/100\n",
      "24/24 [==============================] - 0s 11ms/step - loss: 0.0367 - accuracy: 0.9879 - val_loss: 0.3584 - val_accuracy: 0.9398\n",
      "Epoch 60/100\n",
      "24/24 [==============================] - 0s 11ms/step - loss: 0.0268 - accuracy: 0.9933 - val_loss: 0.3769 - val_accuracy: 0.9398\n",
      "Epoch 61/100\n",
      "24/24 [==============================] - 0s 11ms/step - loss: 0.0300 - accuracy: 0.9946 - val_loss: 0.4713 - val_accuracy: 0.9277\n",
      "Epoch 62/100\n",
      "24/24 [==============================] - 0s 11ms/step - loss: 0.0318 - accuracy: 0.9879 - val_loss: 0.4443 - val_accuracy: 0.9398\n",
      "Epoch 63/100\n",
      "24/24 [==============================] - 0s 12ms/step - loss: 0.0512 - accuracy: 0.9879 - val_loss: 0.3225 - val_accuracy: 0.9277\n",
      "Epoch 64/100\n",
      "24/24 [==============================] - 0s 11ms/step - loss: 0.0568 - accuracy: 0.9772 - val_loss: 0.4403 - val_accuracy: 0.9277\n",
      "Epoch 65/100\n",
      "24/24 [==============================] - 0s 11ms/step - loss: 0.0482 - accuracy: 0.9812 - val_loss: 0.2864 - val_accuracy: 0.9277\n",
      "Epoch 66/100\n",
      "24/24 [==============================] - 0s 11ms/step - loss: 0.0400 - accuracy: 0.9906 - val_loss: 0.3420 - val_accuracy: 0.9157\n",
      "Epoch 67/100\n",
      "24/24 [==============================] - 0s 11ms/step - loss: 0.0959 - accuracy: 0.9758 - val_loss: 0.3246 - val_accuracy: 0.9277\n",
      "Epoch 68/100\n",
      "24/24 [==============================] - 0s 11ms/step - loss: 0.0679 - accuracy: 0.9772 - val_loss: 0.3148 - val_accuracy: 0.9277\n",
      "Epoch 69/100\n",
      "24/24 [==============================] - 0s 11ms/step - loss: 0.0652 - accuracy: 0.9852 - val_loss: 0.3297 - val_accuracy: 0.9398\n",
      "Epoch 70/100\n",
      "24/24 [==============================] - 0s 11ms/step - loss: 0.0644 - accuracy: 0.9718 - val_loss: 0.3128 - val_accuracy: 0.9398\n",
      "Epoch 71/100\n",
      "24/24 [==============================] - 0s 11ms/step - loss: 0.0393 - accuracy: 0.9892 - val_loss: 0.3053 - val_accuracy: 0.9398\n",
      "Epoch 72/100\n",
      "24/24 [==============================] - 0s 10ms/step - loss: 0.0586 - accuracy: 0.9825 - val_loss: 0.2349 - val_accuracy: 0.9277\n",
      "Epoch 73/100\n",
      "24/24 [==============================] - 0s 11ms/step - loss: 0.0349 - accuracy: 0.9892 - val_loss: 0.3125 - val_accuracy: 0.9277\n",
      "Epoch 74/100\n",
      "24/24 [==============================] - 0s 11ms/step - loss: 0.0270 - accuracy: 0.9906 - val_loss: 0.2021 - val_accuracy: 0.9518\n",
      "Epoch 75/100\n",
      "24/24 [==============================] - 0s 11ms/step - loss: 0.0259 - accuracy: 0.9906 - val_loss: 0.1931 - val_accuracy: 0.9398\n",
      "Epoch 76/100\n",
      "24/24 [==============================] - 0s 11ms/step - loss: 0.0399 - accuracy: 0.9839 - val_loss: 0.3068 - val_accuracy: 0.9277\n",
      "Epoch 77/100\n",
      "24/24 [==============================] - 0s 11ms/step - loss: 0.0178 - accuracy: 0.9960 - val_loss: 0.2153 - val_accuracy: 0.9518\n",
      "Epoch 78/100\n",
      "24/24 [==============================] - 0s 11ms/step - loss: 0.0889 - accuracy: 0.9839 - val_loss: 0.2327 - val_accuracy: 0.9398\n",
      "Epoch 79/100\n",
      "24/24 [==============================] - 0s 12ms/step - loss: 0.0487 - accuracy: 0.9879 - val_loss: 0.2007 - val_accuracy: 0.9277\n",
      "Epoch 80/100\n",
      "24/24 [==============================] - 0s 11ms/step - loss: 0.0421 - accuracy: 0.9892 - val_loss: 0.2448 - val_accuracy: 0.9518\n",
      "Epoch 81/100\n",
      "24/24 [==============================] - 0s 11ms/step - loss: 0.0572 - accuracy: 0.9866 - val_loss: 0.2093 - val_accuracy: 0.9639\n",
      "Epoch 82/100\n",
      "24/24 [==============================] - 0s 11ms/step - loss: 0.0436 - accuracy: 0.9866 - val_loss: 0.2573 - val_accuracy: 0.9398\n",
      "Epoch 83/100\n",
      "24/24 [==============================] - 0s 11ms/step - loss: 0.0773 - accuracy: 0.9785 - val_loss: 0.2731 - val_accuracy: 0.9277\n",
      "Epoch 84/100\n",
      "24/24 [==============================] - 0s 11ms/step - loss: 0.0411 - accuracy: 0.9839 - val_loss: 0.2318 - val_accuracy: 0.9398\n",
      "Epoch 85/100\n",
      "24/24 [==============================] - 0s 11ms/step - loss: 0.0401 - accuracy: 0.9825 - val_loss: 0.2350 - val_accuracy: 0.9277\n",
      "Epoch 86/100\n",
      "24/24 [==============================] - 0s 11ms/step - loss: 0.0482 - accuracy: 0.9825 - val_loss: 0.2479 - val_accuracy: 0.9157\n",
      "Epoch 87/100\n",
      "24/24 [==============================] - 0s 11ms/step - loss: 0.0614 - accuracy: 0.9852 - val_loss: 0.3220 - val_accuracy: 0.9277\n",
      "Epoch 88/100\n",
      "24/24 [==============================] - 0s 12ms/step - loss: 0.0404 - accuracy: 0.9825 - val_loss: 0.3075 - val_accuracy: 0.9398\n",
      "Epoch 89/100\n",
      "24/24 [==============================] - 0s 11ms/step - loss: 0.0422 - accuracy: 0.9906 - val_loss: 0.3308 - val_accuracy: 0.9157\n",
      "Epoch 90/100\n",
      "24/24 [==============================] - 0s 12ms/step - loss: 0.0278 - accuracy: 0.9906 - val_loss: 0.3669 - val_accuracy: 0.9157\n",
      "Epoch 91/100\n",
      "24/24 [==============================] - 0s 12ms/step - loss: 0.0344 - accuracy: 0.9892 - val_loss: 0.4085 - val_accuracy: 0.9036\n",
      "Epoch 92/100\n",
      "24/24 [==============================] - 0s 14ms/step - loss: 0.0351 - accuracy: 0.9906 - val_loss: 0.3452 - val_accuracy: 0.9157\n",
      "Epoch 93/100\n",
      "24/24 [==============================] - 0s 12ms/step - loss: 0.0438 - accuracy: 0.9892 - val_loss: 0.3709 - val_accuracy: 0.9036\n",
      "Epoch 94/100\n",
      "24/24 [==============================] - 0s 12ms/step - loss: 0.0547 - accuracy: 0.9866 - val_loss: 0.3106 - val_accuracy: 0.9277\n",
      "Epoch 95/100\n",
      "24/24 [==============================] - 0s 11ms/step - loss: 0.0340 - accuracy: 0.9892 - val_loss: 0.2937 - val_accuracy: 0.9157\n",
      "Epoch 96/100\n",
      "24/24 [==============================] - 0s 11ms/step - loss: 0.0392 - accuracy: 0.9879 - val_loss: 0.2909 - val_accuracy: 0.9157\n",
      "Epoch 97/100\n",
      "24/24 [==============================] - 0s 12ms/step - loss: 0.0384 - accuracy: 0.9879 - val_loss: 0.2569 - val_accuracy: 0.9157\n",
      "Epoch 98/100\n",
      "24/24 [==============================] - 0s 12ms/step - loss: 0.0241 - accuracy: 0.9933 - val_loss: 0.2863 - val_accuracy: 0.9277\n",
      "Epoch 99/100\n",
      "24/24 [==============================] - 0s 12ms/step - loss: 0.0363 - accuracy: 0.9852 - val_loss: 0.2934 - val_accuracy: 0.9277\n",
      "Epoch 100/100\n",
      "24/24 [==============================] - 0s 11ms/step - loss: 0.0639 - accuracy: 0.9825 - val_loss: 0.3096 - val_accuracy: 0.9398\n"
     ]
    }
   ],
   "source": [
    "history=model.fit(a_train, ay_train, epochs=100, verbose=1, validation_data=(a_test, ay_test))"
   ]
  },
  {
   "cell_type": "code",
   "execution_count": 117,
   "metadata": {},
   "outputs": [
    {
     "data": {
      "text/plain": [
       "array([[1.00000000e+00, 1.18124222e-08, 7.53222068e-11, 2.01155634e-17,\n",
       "        7.03035923e-14],\n",
       "       [1.00000000e+00, 1.16622527e-19, 3.88059425e-21, 2.55233516e-36,\n",
       "        2.57006010e-27],\n",
       "       [3.52973817e-04, 1.23441523e-05, 2.04360276e-07, 9.99441326e-01,\n",
       "        1.93168162e-04],\n",
       "       [9.99385476e-01, 6.03454770e-04, 7.86714918e-06, 2.52202792e-08,\n",
       "        3.16217347e-06],\n",
       "       [3.35842021e-10, 1.36678923e-11, 4.25276710e-14, 9.99990940e-01,\n",
       "        9.08056245e-06],\n",
       "       [1.04119813e-09, 9.99998093e-01, 9.40853038e-12, 2.52219117e-13,\n",
       "        1.95511529e-06],\n",
       "       [8.66195536e-04, 9.55379784e-01, 3.45357752e-04, 4.11615765e-04,\n",
       "        4.29971106e-02],\n",
       "       [5.48597455e-01, 2.89102525e-01, 2.11630818e-02, 8.31424259e-03,\n",
       "        1.32822737e-01],\n",
       "       [1.82375723e-15, 2.92038678e-08, 1.68891194e-18, 4.02832325e-12,\n",
       "        1.00000000e+00],\n",
       "       [6.53816194e-13, 6.22120924e-16, 4.84879161e-19, 1.00000000e+00,\n",
       "        1.82427158e-08],\n",
       "       [6.05977675e-07, 9.87841427e-01, 2.70029091e-07, 3.89674170e-07,\n",
       "        1.21574607e-02],\n",
       "       [1.21658905e-10, 9.99999762e-01, 1.96400405e-12, 3.87268037e-14,\n",
       "        1.80949726e-07],\n",
       "       [1.00000000e+00, 6.30824516e-12, 9.85969336e-13, 1.86348224e-17,\n",
       "        1.20738462e-13],\n",
       "       [1.20977700e-10, 1.00000000e+00, 8.33402493e-14, 3.09335316e-18,\n",
       "        2.07023815e-10],\n",
       "       [1.29063137e-21, 4.91062955e-26, 3.88571676e-30, 1.00000000e+00,\n",
       "        1.41792773e-13],\n",
       "       [1.41882492e-10, 2.31483227e-07, 6.41263301e-12, 1.09089854e-07,\n",
       "        9.99999642e-01],\n",
       "       [2.98470762e-23, 8.38181804e-29, 1.00000000e+00, 2.47755600e-37,\n",
       "        5.08718295e-30],\n",
       "       [2.88141852e-19, 5.49997214e-10, 1.37878346e-22, 5.72665974e-15,\n",
       "        1.00000000e+00],\n",
       "       [1.00000000e+00, 7.19598128e-14, 4.17299543e-16, 8.44332579e-24,\n",
       "        8.87955950e-19],\n",
       "       [6.12150994e-04, 8.15185428e-01, 1.86930134e-04, 4.03418089e-04,\n",
       "        1.83612078e-01],\n",
       "       [5.77163613e-24, 2.78335105e-10, 2.67774399e-21, 4.86164497e-19,\n",
       "        1.00000000e+00],\n",
       "       [1.47404361e-20, 2.80896482e-26, 1.30538208e-28, 1.00000000e+00,\n",
       "        7.15764948e-15],\n",
       "       [9.99999762e-01, 1.51772198e-07, 1.72746610e-07, 4.37435418e-12,\n",
       "        2.53860877e-10],\n",
       "       [1.00000000e+00, 1.63017551e-11, 4.19031953e-12, 1.68743158e-17,\n",
       "        9.65473903e-14],\n",
       "       [1.31263526e-24, 1.14745250e-27, 1.00000000e+00, 0.00000000e+00,\n",
       "        1.63922127e-29],\n",
       "       [7.90865033e-06, 9.99594271e-01, 3.49650395e-06, 1.99670723e-07,\n",
       "        3.94180097e-04],\n",
       "       [9.99476254e-01, 2.31945451e-04, 2.61997018e-04, 1.50776259e-06,\n",
       "        2.81888842e-05],\n",
       "       [7.21824515e-23, 1.27513072e-13, 1.46103130e-23, 3.39360152e-18,\n",
       "        1.00000000e+00],\n",
       "       [1.00000000e+00, 6.42053134e-15, 7.60419610e-18, 4.99585099e-31,\n",
       "        1.56215695e-23],\n",
       "       [5.86306394e-12, 3.28782869e-11, 1.07424623e-14, 9.99982595e-01,\n",
       "        1.74177057e-05],\n",
       "       [1.66957133e-20, 4.77278166e-26, 1.00000000e+00, 8.40882193e-35,\n",
       "        7.69277372e-26],\n",
       "       [4.41270499e-18, 2.43536902e-23, 2.07400875e-25, 1.00000000e+00,\n",
       "        1.33114938e-12],\n",
       "       [4.04260476e-07, 9.99946833e-01, 2.96508702e-08, 2.35884562e-10,\n",
       "        5.27852790e-05],\n",
       "       [1.00000000e+00, 1.91867572e-13, 1.65767005e-15, 1.62883907e-26,\n",
       "        8.19168108e-22],\n",
       "       [5.05982293e-03, 2.81991251e-02, 1.68420316e-03, 2.20908760e-03,\n",
       "        9.62847769e-01],\n",
       "       [1.00000000e+00, 0.00000000e+00, 0.00000000e+00, 0.00000000e+00,\n",
       "        0.00000000e+00],\n",
       "       [2.28633670e-21, 4.76113860e-28, 1.00000000e+00, 3.26047569e-38,\n",
       "        3.01036934e-29],\n",
       "       [8.31215359e-13, 1.48518836e-16, 1.00000000e+00, 8.08540382e-24,\n",
       "        5.29539470e-19],\n",
       "       [1.00000000e+00, 5.31457528e-13, 1.38599256e-14, 3.38961747e-25,\n",
       "        5.93957494e-18],\n",
       "       [2.28015676e-10, 1.32476380e-05, 1.74335772e-11, 9.06376343e-08,\n",
       "        9.99986649e-01],\n",
       "       [3.72502159e-12, 5.24698318e-16, 6.95488248e-18, 1.00000000e+00,\n",
       "        6.60721255e-09],\n",
       "       [1.00000000e+00, 3.49107796e-36, 1.95351025e-38, 0.00000000e+00,\n",
       "        0.00000000e+00],\n",
       "       [1.27572985e-02, 3.11466549e-02, 4.32443107e-04, 1.36140138e-01,\n",
       "        8.19523513e-01],\n",
       "       [3.51919804e-09, 3.62542924e-05, 5.04396125e-09, 5.23545758e-08,\n",
       "        9.99963641e-01],\n",
       "       [3.40372626e-11, 1.96902883e-10, 1.00000000e+00, 2.88004768e-17,\n",
       "        8.22420365e-13],\n",
       "       [3.90335144e-15, 2.67676232e-22, 1.00000000e+00, 1.17549548e-30,\n",
       "        3.31524436e-24],\n",
       "       [1.00000000e+00, 3.66213424e-15, 1.62241568e-17, 3.37933538e-28,\n",
       "        1.83569412e-21],\n",
       "       [3.19765619e-04, 3.27566713e-01, 1.12943351e-04, 1.12150866e-03,\n",
       "        6.70879126e-01],\n",
       "       [2.36469364e-16, 1.00664252e-07, 2.14155985e-17, 1.55746184e-12,\n",
       "        9.99999881e-01],\n",
       "       [2.46790325e-04, 9.99724448e-01, 2.15588059e-07, 7.50622053e-09,\n",
       "        2.84405869e-05],\n",
       "       [1.83696087e-04, 9.94834304e-01, 3.83741026e-05, 3.30471230e-05,\n",
       "        4.91044251e-03],\n",
       "       [1.00000000e+00, 2.42799197e-10, 2.33993814e-11, 3.91220590e-15,\n",
       "        2.72958756e-11],\n",
       "       [5.59464524e-06, 3.41578669e-07, 9.99994040e-01, 2.37209419e-11,\n",
       "        2.59691504e-08],\n",
       "       [1.11247133e-20, 1.57553951e-22, 1.67325148e-26, 1.00000000e+00,\n",
       "        8.57879089e-13],\n",
       "       [8.42530001e-03, 4.14471954e-01, 5.03314333e-03, 1.11719063e-02,\n",
       "        5.60897708e-01],\n",
       "       [8.38432970e-05, 9.97092009e-01, 7.21459000e-05, 5.11673215e-06,\n",
       "        2.74693896e-03],\n",
       "       [1.00000000e+00, 2.41446948e-18, 3.39412885e-20, 3.66809683e-34,\n",
       "        3.48829656e-28],\n",
       "       [2.20906277e-05, 9.99041855e-01, 2.42261444e-06, 1.43209741e-06,\n",
       "        9.32305411e-04],\n",
       "       [1.15971248e-04, 9.92918313e-01, 8.09843459e-06, 2.63540983e-06,\n",
       "        6.95498521e-03],\n",
       "       [7.88332971e-15, 3.60972706e-07, 1.19826363e-15, 4.79042743e-11,\n",
       "        9.99999642e-01],\n",
       "       [4.38988536e-05, 9.20393286e-05, 9.99832511e-01, 5.95267579e-07,\n",
       "        3.09170537e-05],\n",
       "       [7.94133996e-07, 9.99696970e-01, 1.54047413e-07, 1.76328516e-08,\n",
       "        3.02080734e-04],\n",
       "       [2.88948999e-04, 6.06185175e-04, 9.99078393e-01, 9.12432256e-07,\n",
       "        2.54309434e-05],\n",
       "       [2.89203177e-13, 1.05130586e-16, 1.00000000e+00, 1.96671405e-24,\n",
       "        1.11283317e-18],\n",
       "       [4.85991514e-08, 3.45533015e-04, 2.88238122e-09, 3.67716275e-05,\n",
       "        9.99617577e-01],\n",
       "       [2.23785074e-10, 2.77762432e-13, 1.00000000e+00, 6.15322209e-20,\n",
       "        1.88060881e-15],\n",
       "       [1.00000000e+00, 1.28384012e-10, 1.27945946e-10, 1.11775850e-13,\n",
       "        1.91117192e-11],\n",
       "       [5.49624208e-04, 9.99355853e-01, 1.97578938e-05, 3.46442341e-08,\n",
       "        7.47207669e-05],\n",
       "       [1.30842185e-15, 5.57567993e-15, 1.00000000e+00, 7.53533268e-24,\n",
       "        7.00205493e-18],\n",
       "       [1.00000000e+00, 0.00000000e+00, 0.00000000e+00, 0.00000000e+00,\n",
       "        0.00000000e+00],\n",
       "       [2.00775797e-13, 3.78202937e-16, 1.00000000e+00, 8.96278668e-22,\n",
       "        2.39803233e-16],\n",
       "       [6.49291623e-16, 1.00520808e-17, 5.33087855e-21, 1.00000000e+00,\n",
       "        2.37803621e-09],\n",
       "       [1.00000000e+00, 1.08539397e-16, 8.30373013e-19, 7.09444733e-30,\n",
       "        7.16228312e-25],\n",
       "       [9.15967584e-01, 7.02494234e-02, 1.37415184e-02, 3.78930872e-06,\n",
       "        3.77165525e-05],\n",
       "       [4.46994086e-08, 6.56584618e-08, 9.99999881e-01, 2.34319703e-12,\n",
       "        1.87511295e-09],\n",
       "       [1.33102418e-09, 2.19581470e-01, 7.05401182e-10, 7.03481859e-08,\n",
       "        7.80418456e-01],\n",
       "       [3.61592288e-06, 7.59070098e-01, 2.72562193e-05, 9.74646991e-06,\n",
       "        2.40889311e-01],\n",
       "       [1.00000000e+00, 8.86704211e-25, 1.11539708e-31, 0.00000000e+00,\n",
       "        0.00000000e+00],\n",
       "       [2.46348063e-11, 3.87272983e-12, 1.00000000e+00, 5.97176477e-19,\n",
       "        1.13105021e-14],\n",
       "       [7.20410970e-12, 2.72061020e-13, 1.60927935e-16, 9.99998808e-01,\n",
       "        1.17123614e-06],\n",
       "       [3.46049198e-08, 9.99999762e-01, 9.71002584e-11, 8.26072175e-13,\n",
       "        1.82647071e-07],\n",
       "       [9.99301076e-01, 6.50005823e-04, 3.72001086e-05, 6.80964376e-07,\n",
       "        1.10804840e-05],\n",
       "       [3.64280306e-02, 6.87623203e-01, 1.84119716e-02, 2.48679388e-02,\n",
       "        2.32668847e-01]], dtype=float32)"
      ]
     },
     "execution_count": 117,
     "metadata": {},
     "output_type": "execute_result"
    }
   ],
   "source": [
    "predictions = model.predict(a_test)\n",
    "predictions"
   ]
  },
  {
   "cell_type": "code",
   "execution_count": null,
   "metadata": {},
   "outputs": [],
   "source": [
    "import matplotlib.pyplot as plt\n",
    "plt.figure(figsize=(8,8))\n",
    "plt.title('Loss Value')\n",
    "plt.plot(history.history['loss'])\n",
    "plt.plot(history.history['val_loss'])\n",
    "plt.legend(['loss', 'val_loss'])\n",
    "print('loss:', history.history['loss'][-1])\n",
    "print('val_loss:', history.history['val_loss'][-1])\n",
    "plt.show()\n",
    "plt.figure(figsize=(8,8))\n",
    "plt.title('Accuracy')\n",
    "plt.plot(history.history['accuracy'])\n",
    "plt.plot(history.history['val_acc'])\n",
    "plt.legend(['acc', 'val_acc'])\n",
    "print('accuracy:', history.history['accuracy'][-1])\n",
    "print('val_acc:', history.history['val_acc'][-1])\n",
    "plt.show()"
   ]
  },
  {
   "cell_type": "code",
   "execution_count": 118,
   "metadata": {},
   "outputs": [],
   "source": [
    " from sklearn.metrics import confusion_matrix"
   ]
  },
  {
   "cell_type": "code",
   "execution_count": null,
   "metadata": {},
   "outputs": [],
   "source": [
    "predictions = np.argmax(predictions, axis=1)\n",
    "ay_test = one_hot_encoder.inverse_transform(ay_test)"
   ]
  },
  {
   "cell_type": "code",
   "execution_count": 121,
   "metadata": {},
   "outputs": [],
   "source": [
    "import seaborn as sns"
   ]
  },
  {
   "cell_type": "code",
   "execution_count": 122,
   "metadata": {},
   "outputs": [
    {
     "data": {
      "image/png": "[encoded data removed]",
      "text/plain": [
       "<Figure size 576x576 with 1 Axes>"
      ]
     },
     "metadata": {
      "needs_background": "light"
     },
     "output_type": "display_data"
    }
   ],
   "source": [
    "cm = confusion_matrix(ay_test, predictions)\n",
    "plt.figure(figsize=(8,8))\n",
    "sns.heatmap(cm, annot=True, xticklabels=label_encoder.classes_, yticklabels=label_encoder.classes_, fmt='d', cmap=plt.cm.Blues, cbar=False)\n",
    "plt.xlabel('Predicted Label')\n",
    "plt.ylabel('True Label')\n",
    "plt.show()"
   ]
  },
  {
   "cell_type": "code",
   "execution_count": null,
   "metadata": {},
   "outputs": [],
   "source": []
  }
 ],
 "metadata": {
  "kernelspec": {
   "display_name": "Python 3 (ipykernel)",
   "language": "python",
   "name": "python3"
  },
  "language_info": {
   "codemirror_mode": {
    "name": "ipython",
    "version": 3
   },
   "file_extension": ".py",
   "mimetype": "text/x-python",
   "name": "python",
   "nbconvert_exporter": "python",
   "pygments_lexer": "ipython3",
   "version": "3.9.12"
  }
 },
 "nbformat": 4,
 "nbformat_minor": 4
}
